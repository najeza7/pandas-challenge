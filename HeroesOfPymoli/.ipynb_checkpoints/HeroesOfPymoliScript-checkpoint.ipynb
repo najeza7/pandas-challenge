{
 "cells": [
  {
   "cell_type": "code",
   "execution_count": 2,
   "metadata": {},
   "outputs": [],
   "source": [
    "# Dependencies and Setup\n",
    "import pandas as pd\n",
    "\n",
    "# File to Load \n",
    "file_path = \"Resources/purchase_data.csv\"\n",
    "\n",
    "# Read Purchasing File and store into Pandas data frame\n",
    "purchase_df = pd.read_csv(file_path)"
   ]
  },
  {
   "cell_type": "code",
   "execution_count": 3,
   "metadata": {},
   "outputs": [
    {
     "data": {
      "text/html": [
       "<div>\n",
       "<style scoped>\n",
       "    .dataframe tbody tr th:only-of-type {\n",
       "        vertical-align: middle;\n",
       "    }\n",
       "\n",
       "    .dataframe tbody tr th {\n",
       "        vertical-align: top;\n",
       "    }\n",
       "\n",
       "    .dataframe thead th {\n",
       "        text-align: right;\n",
       "    }\n",
       "</style>\n",
       "<table border=\"1\" class=\"dataframe\">\n",
       "  <thead>\n",
       "    <tr style=\"text-align: right;\">\n",
       "      <th></th>\n",
       "      <th>Total Players</th>\n",
       "    </tr>\n",
       "  </thead>\n",
       "  <tbody>\n",
       "    <tr>\n",
       "      <th>0</th>\n",
       "      <td>576</td>\n",
       "    </tr>\n",
       "  </tbody>\n",
       "</table>\n",
       "</div>"
      ],
      "text/plain": [
       "   Total Players\n",
       "0            576"
      ]
     },
     "execution_count": 3,
     "metadata": {},
     "output_type": "execute_result"
    }
   ],
   "source": [
    "t_players = len(purchase_df[\"SN\"].unique())\n",
    "t_players_df = pd.DataFrame({\"Total Players\" : [t_players] })\n",
    "t_players_df"
   ]
  },
  {
   "cell_type": "code",
   "execution_count": 4,
   "metadata": {},
   "outputs": [
    {
     "data": {
      "text/html": [
       "<div>\n",
       "<style scoped>\n",
       "    .dataframe tbody tr th:only-of-type {\n",
       "        vertical-align: middle;\n",
       "    }\n",
       "\n",
       "    .dataframe tbody tr th {\n",
       "        vertical-align: top;\n",
       "    }\n",
       "\n",
       "    .dataframe thead th {\n",
       "        text-align: right;\n",
       "    }\n",
       "</style>\n",
       "<table border=\"1\" class=\"dataframe\">\n",
       "  <thead>\n",
       "    <tr style=\"text-align: right;\">\n",
       "      <th></th>\n",
       "      <th>Number of Unique Items</th>\n",
       "      <th>Average Price</th>\n",
       "      <th>Number of Purchases</th>\n",
       "      <th>Total Revenue</th>\n",
       "    </tr>\n",
       "  </thead>\n",
       "  <tbody>\n",
       "    <tr>\n",
       "      <th>0</th>\n",
       "      <td>179</td>\n",
       "      <td>$3.05</td>\n",
       "      <td>780</td>\n",
       "      <td>$2,379.77</td>\n",
       "    </tr>\n",
       "  </tbody>\n",
       "</table>\n",
       "</div>"
      ],
      "text/plain": [
       "   Number of Unique Items Average Price  Number of Purchases Total Revenue\n",
       "0                     179         $3.05                  780     $2,379.77"
      ]
     },
     "execution_count": 4,
     "metadata": {},
     "output_type": "execute_result"
    }
   ],
   "source": [
    "t_purchases = len(purchase_df[\"SN\"])\n",
    "unique_items = len(purchase_df[\"Item ID\"].unique())\n",
    "av_price =  \"${:,.2f}\".format(purchase_df[\"Price\"].sum()/t_purchases)\n",
    "t_revenue = \"${:,.2f}\".format(purchase_df[\"Price\"].sum())\n",
    "\n",
    "purchasing_analysis = pd.DataFrame({\"Number of Unique Items\" : [unique_items], \"Average Price\": [av_price], \n",
    "                                    \"Number of Purchases\" : [t_purchases], \"Total Revenue\" : [t_revenue]})\n",
    "purchasing_analysis\n"
   ]
  },
  {
   "cell_type": "code",
   "execution_count": 23,
   "metadata": {},
   "outputs": [
    {
     "data": {
      "text/html": [
       "<style  type=\"text/css\" >\n",
       "</style><table id=\"T_822b655e_5d9c_11eb_b21a_28cdc4cd3530\" ><thead>    <tr>        <th class=\"blank level0\" ></th>        <th class=\"col_heading level0 col0\" >Total Count</th>        <th class=\"col_heading level0 col1\" >Percentage of Players</th>    </tr></thead><tbody>\n",
       "                <tr>\n",
       "                        <th id=\"T_822b655e_5d9c_11eb_b21a_28cdc4cd3530level0_row0\" class=\"row_heading level0 row0\" >Male</th>\n",
       "                        <td id=\"T_822b655e_5d9c_11eb_b21a_28cdc4cd3530row0_col0\" class=\"data row0 col0\" >484</td>\n",
       "                        <td id=\"T_822b655e_5d9c_11eb_b21a_28cdc4cd3530row0_col1\" class=\"data row0 col1\" >84.03%</td>\n",
       "            </tr>\n",
       "            <tr>\n",
       "                        <th id=\"T_822b655e_5d9c_11eb_b21a_28cdc4cd3530level0_row1\" class=\"row_heading level0 row1\" >Female</th>\n",
       "                        <td id=\"T_822b655e_5d9c_11eb_b21a_28cdc4cd3530row1_col0\" class=\"data row1 col0\" >81</td>\n",
       "                        <td id=\"T_822b655e_5d9c_11eb_b21a_28cdc4cd3530row1_col1\" class=\"data row1 col1\" >14.06%</td>\n",
       "            </tr>\n",
       "            <tr>\n",
       "                        <th id=\"T_822b655e_5d9c_11eb_b21a_28cdc4cd3530level0_row2\" class=\"row_heading level0 row2\" >Other / Non-Disclosed</th>\n",
       "                        <td id=\"T_822b655e_5d9c_11eb_b21a_28cdc4cd3530row2_col0\" class=\"data row2 col0\" >11</td>\n",
       "                        <td id=\"T_822b655e_5d9c_11eb_b21a_28cdc4cd3530row2_col1\" class=\"data row2 col1\" >1.91%</td>\n",
       "            </tr>\n",
       "    </tbody></table>"
      ],
      "text/plain": [
       "<pandas.io.formats.style.Styler at 0x196ecdf7d68>"
      ]
     },
     "execution_count": 23,
     "metadata": {},
     "output_type": "execute_result"
    }
   ],
   "source": [
    "purchase_unique = purchase_df.drop_duplicates(subset=[\"SN\"])\n",
    "gender_counts = purchase_unique[\"Gender\"].value_counts()\n",
    "per_players = (gender_counts/t_players)*100\n",
    "gender_dem = pd.DataFrame({\"Total Count\" : gender_counts, \"Percentage of Players\" : per_players})\n",
    "gender_dem.style.format({\"Percentage of Players\" : \"{:,.2f}%\"})\n"
   ]
  },
  {
   "cell_type": "code",
   "execution_count": 24,
   "metadata": {},
   "outputs": [
    {
     "data": {
      "text/html": [
       "<style  type=\"text/css\" >\n",
       "</style><table id=\"T_864f674a_5d9c_11eb_b4f1_28cdc4cd3530\" ><thead>    <tr>        <th class=\"blank level0\" ></th>        <th class=\"col_heading level0 col0\" >Purchase Count</th>        <th class=\"col_heading level0 col1\" >Average Purchase Price</th>        <th class=\"col_heading level0 col2\" >Total Purchase Value</th>        <th class=\"col_heading level0 col3\" >Avg Total Purchase per Person</th>    </tr>    <tr>        <th class=\"index_name level0\" >Gender</th>        <th class=\"blank\" ></th>        <th class=\"blank\" ></th>        <th class=\"blank\" ></th>        <th class=\"blank\" ></th>    </tr></thead><tbody>\n",
       "                <tr>\n",
       "                        <th id=\"T_864f674a_5d9c_11eb_b4f1_28cdc4cd3530level0_row0\" class=\"row_heading level0 row0\" >Female</th>\n",
       "                        <td id=\"T_864f674a_5d9c_11eb_b4f1_28cdc4cd3530row0_col0\" class=\"data row0 col0\" >113</td>\n",
       "                        <td id=\"T_864f674a_5d9c_11eb_b4f1_28cdc4cd3530row0_col1\" class=\"data row0 col1\" >$3.20</td>\n",
       "                        <td id=\"T_864f674a_5d9c_11eb_b4f1_28cdc4cd3530row0_col2\" class=\"data row0 col2\" >$361.94</td>\n",
       "                        <td id=\"T_864f674a_5d9c_11eb_b4f1_28cdc4cd3530row0_col3\" class=\"data row0 col3\" >$4.47</td>\n",
       "            </tr>\n",
       "            <tr>\n",
       "                        <th id=\"T_864f674a_5d9c_11eb_b4f1_28cdc4cd3530level0_row1\" class=\"row_heading level0 row1\" >Male</th>\n",
       "                        <td id=\"T_864f674a_5d9c_11eb_b4f1_28cdc4cd3530row1_col0\" class=\"data row1 col0\" >652</td>\n",
       "                        <td id=\"T_864f674a_5d9c_11eb_b4f1_28cdc4cd3530row1_col1\" class=\"data row1 col1\" >$3.02</td>\n",
       "                        <td id=\"T_864f674a_5d9c_11eb_b4f1_28cdc4cd3530row1_col2\" class=\"data row1 col2\" >$1,967.64</td>\n",
       "                        <td id=\"T_864f674a_5d9c_11eb_b4f1_28cdc4cd3530row1_col3\" class=\"data row1 col3\" >$4.07</td>\n",
       "            </tr>\n",
       "            <tr>\n",
       "                        <th id=\"T_864f674a_5d9c_11eb_b4f1_28cdc4cd3530level0_row2\" class=\"row_heading level0 row2\" >Other / Non-Disclosed</th>\n",
       "                        <td id=\"T_864f674a_5d9c_11eb_b4f1_28cdc4cd3530row2_col0\" class=\"data row2 col0\" >15</td>\n",
       "                        <td id=\"T_864f674a_5d9c_11eb_b4f1_28cdc4cd3530row2_col1\" class=\"data row2 col1\" >$3.35</td>\n",
       "                        <td id=\"T_864f674a_5d9c_11eb_b4f1_28cdc4cd3530row2_col2\" class=\"data row2 col2\" >$50.19</td>\n",
       "                        <td id=\"T_864f674a_5d9c_11eb_b4f1_28cdc4cd3530row2_col3\" class=\"data row2 col3\" >$4.56</td>\n",
       "            </tr>\n",
       "    </tbody></table>"
      ],
      "text/plain": [
       "<pandas.io.formats.style.Styler at 0x196ed2f1048>"
      ]
     },
     "execution_count": 24,
     "metadata": {},
     "output_type": "execute_result"
    }
   ],
   "source": [
    "gender_purchase = purchase_df.groupby(\"Gender\").agg({\"Purchase ID\":\"count\", \"Price\": [\"mean\", \"sum\"],\n",
    "                                                         \"SN\" : pd.Series.nunique})\n",
    "av_pp = gender_purchase[(\"Price\",\"sum\")] / gender_purchase[(\"SN\", \"nunique\")] \n",
    "\n",
    "gender_purchase[(                           'SN', 'nunique')] = av_pp\n",
    "cols = {(                  'Purchase ID',   'count') : \"Purchase Count\",\n",
    "            (                        'Price',    'mean') : \"Average Purchase Price\",\n",
    "            (                        'Price',     'sum') : \"Total Purchase Value\",\n",
    "            (                           'SN', 'nunique') : \"Avg Total Purchase per Person\"}\n",
    "\n",
    "gender_purchase.columns = gender_purchase.columns.to_flat_index()\n",
    "\n",
    "rename = gender_purchase.rename(columns=cols)\n",
    "rename.style.format({\"Average Purchase Price\" : \"${:,.2f}\",\n",
    "                            \"Total Purchase Value\" : \"${:,.2f}\",\n",
    "                            \"Avg Total Purchase per Person\" : \"${:,.2f}\" })\n"
   ]
  },
  {
   "cell_type": "code",
   "execution_count": 33,
   "metadata": {},
   "outputs": [
    {
     "data": {
      "text/html": [
       "<style  type=\"text/css\" >\n",
       "</style><table id=\"T_b8754406_5d9d_11eb_b250_28cdc4cd3530\" ><thead>    <tr>        <th class=\"blank level0\" ></th>        <th class=\"col_heading level0 col0\" >Total Count</th>        <th class=\"col_heading level0 col1\" >Percentage of Players</th>    </tr></thead><tbody>\n",
       "                <tr>\n",
       "                        <th id=\"T_b8754406_5d9d_11eb_b250_28cdc4cd3530level0_row0\" class=\"row_heading level0 row0\" ><10</th>\n",
       "                        <td id=\"T_b8754406_5d9d_11eb_b250_28cdc4cd3530row0_col0\" class=\"data row0 col0\" >17</td>\n",
       "                        <td id=\"T_b8754406_5d9d_11eb_b250_28cdc4cd3530row0_col1\" class=\"data row0 col1\" >2.95%</td>\n",
       "            </tr>\n",
       "            <tr>\n",
       "                        <th id=\"T_b8754406_5d9d_11eb_b250_28cdc4cd3530level0_row1\" class=\"row_heading level0 row1\" >10-14</th>\n",
       "                        <td id=\"T_b8754406_5d9d_11eb_b250_28cdc4cd3530row1_col0\" class=\"data row1 col0\" >22</td>\n",
       "                        <td id=\"T_b8754406_5d9d_11eb_b250_28cdc4cd3530row1_col1\" class=\"data row1 col1\" >3.82%</td>\n",
       "            </tr>\n",
       "            <tr>\n",
       "                        <th id=\"T_b8754406_5d9d_11eb_b250_28cdc4cd3530level0_row2\" class=\"row_heading level0 row2\" >15-19</th>\n",
       "                        <td id=\"T_b8754406_5d9d_11eb_b250_28cdc4cd3530row2_col0\" class=\"data row2 col0\" >107</td>\n",
       "                        <td id=\"T_b8754406_5d9d_11eb_b250_28cdc4cd3530row2_col1\" class=\"data row2 col1\" >18.58%</td>\n",
       "            </tr>\n",
       "            <tr>\n",
       "                        <th id=\"T_b8754406_5d9d_11eb_b250_28cdc4cd3530level0_row3\" class=\"row_heading level0 row3\" >20-24</th>\n",
       "                        <td id=\"T_b8754406_5d9d_11eb_b250_28cdc4cd3530row3_col0\" class=\"data row3 col0\" >258</td>\n",
       "                        <td id=\"T_b8754406_5d9d_11eb_b250_28cdc4cd3530row3_col1\" class=\"data row3 col1\" >44.79%</td>\n",
       "            </tr>\n",
       "            <tr>\n",
       "                        <th id=\"T_b8754406_5d9d_11eb_b250_28cdc4cd3530level0_row4\" class=\"row_heading level0 row4\" >25-29</th>\n",
       "                        <td id=\"T_b8754406_5d9d_11eb_b250_28cdc4cd3530row4_col0\" class=\"data row4 col0\" >77</td>\n",
       "                        <td id=\"T_b8754406_5d9d_11eb_b250_28cdc4cd3530row4_col1\" class=\"data row4 col1\" >13.37%</td>\n",
       "            </tr>\n",
       "            <tr>\n",
       "                        <th id=\"T_b8754406_5d9d_11eb_b250_28cdc4cd3530level0_row5\" class=\"row_heading level0 row5\" >30-34</th>\n",
       "                        <td id=\"T_b8754406_5d9d_11eb_b250_28cdc4cd3530row5_col0\" class=\"data row5 col0\" >52</td>\n",
       "                        <td id=\"T_b8754406_5d9d_11eb_b250_28cdc4cd3530row5_col1\" class=\"data row5 col1\" >9.03%</td>\n",
       "            </tr>\n",
       "            <tr>\n",
       "                        <th id=\"T_b8754406_5d9d_11eb_b250_28cdc4cd3530level0_row6\" class=\"row_heading level0 row6\" >35-39</th>\n",
       "                        <td id=\"T_b8754406_5d9d_11eb_b250_28cdc4cd3530row6_col0\" class=\"data row6 col0\" >31</td>\n",
       "                        <td id=\"T_b8754406_5d9d_11eb_b250_28cdc4cd3530row6_col1\" class=\"data row6 col1\" >5.38%</td>\n",
       "            </tr>\n",
       "            <tr>\n",
       "                        <th id=\"T_b8754406_5d9d_11eb_b250_28cdc4cd3530level0_row7\" class=\"row_heading level0 row7\" >40+</th>\n",
       "                        <td id=\"T_b8754406_5d9d_11eb_b250_28cdc4cd3530row7_col0\" class=\"data row7 col0\" >12</td>\n",
       "                        <td id=\"T_b8754406_5d9d_11eb_b250_28cdc4cd3530row7_col1\" class=\"data row7 col1\" >2.08%</td>\n",
       "            </tr>\n",
       "    </tbody></table>"
      ],
      "text/plain": [
       "<pandas.io.formats.style.Styler at 0x196ecdc5f60>"
      ]
     },
     "execution_count": 33,
     "metadata": {},
     "output_type": "execute_result"
    }
   ],
   "source": [
    "bins = [0,9.9,14,19,24,29,34,39,purchase_df[\"Age\"].max()]\n",
    "group_names = [\"<10\", \"10-14\", \"15-19\", \"20-24\", \"25-29\",\"30-34\", \"35-39\", \"40+\"]\n",
    "purchase_df[\"Age Bin\"] = pd.cut(purchase_df[\"Age\"], bins, labels = group_names, include_lowest=True)\n",
    "ages_unique = purchase_df.drop_duplicates(subset=[\"SN\"])\n",
    "age_counts = ages_unique[\"Age Bin\"].value_counts(sort=False)\n",
    "per_age = (age_counts/t_players)*100\n",
    "age_dem = pd.DataFrame({\"Total Count\" : age_counts, \"Percentage of Players\" : per_age})\n",
    "age_dem.style.format({\"Percentage of Players\" : \"{:,.2f}%\"})\n"
   ]
  },
  {
   "cell_type": "code",
   "execution_count": 35,
   "metadata": {},
   "outputs": [
    {
     "data": {
      "text/html": [
       "<style  type=\"text/css\" >\n",
       "</style><table id=\"T_9e71b2a2_5d9e_11eb_af2c_28cdc4cd3530\" ><thead>    <tr>        <th class=\"blank level0\" ></th>        <th class=\"col_heading level0 col0\" >Purchase Count</th>        <th class=\"col_heading level0 col1\" >Average Purchase Price</th>        <th class=\"col_heading level0 col2\" >Total Purchase Value</th>        <th class=\"col_heading level0 col3\" >Avg Total Purchase per Person</th>    </tr>    <tr>        <th class=\"index_name level0\" >Age Bin</th>        <th class=\"blank\" ></th>        <th class=\"blank\" ></th>        <th class=\"blank\" ></th>        <th class=\"blank\" ></th>    </tr></thead><tbody>\n",
       "                <tr>\n",
       "                        <th id=\"T_9e71b2a2_5d9e_11eb_af2c_28cdc4cd3530level0_row0\" class=\"row_heading level0 row0\" ><10</th>\n",
       "                        <td id=\"T_9e71b2a2_5d9e_11eb_af2c_28cdc4cd3530row0_col0\" class=\"data row0 col0\" >23</td>\n",
       "                        <td id=\"T_9e71b2a2_5d9e_11eb_af2c_28cdc4cd3530row0_col1\" class=\"data row0 col1\" >$3.35</td>\n",
       "                        <td id=\"T_9e71b2a2_5d9e_11eb_af2c_28cdc4cd3530row0_col2\" class=\"data row0 col2\" >$77.13</td>\n",
       "                        <td id=\"T_9e71b2a2_5d9e_11eb_af2c_28cdc4cd3530row0_col3\" class=\"data row0 col3\" >$4.54</td>\n",
       "            </tr>\n",
       "            <tr>\n",
       "                        <th id=\"T_9e71b2a2_5d9e_11eb_af2c_28cdc4cd3530level0_row1\" class=\"row_heading level0 row1\" >10-14</th>\n",
       "                        <td id=\"T_9e71b2a2_5d9e_11eb_af2c_28cdc4cd3530row1_col0\" class=\"data row1 col0\" >28</td>\n",
       "                        <td id=\"T_9e71b2a2_5d9e_11eb_af2c_28cdc4cd3530row1_col1\" class=\"data row1 col1\" >$2.96</td>\n",
       "                        <td id=\"T_9e71b2a2_5d9e_11eb_af2c_28cdc4cd3530row1_col2\" class=\"data row1 col2\" >$82.78</td>\n",
       "                        <td id=\"T_9e71b2a2_5d9e_11eb_af2c_28cdc4cd3530row1_col3\" class=\"data row1 col3\" >$3.76</td>\n",
       "            </tr>\n",
       "            <tr>\n",
       "                        <th id=\"T_9e71b2a2_5d9e_11eb_af2c_28cdc4cd3530level0_row2\" class=\"row_heading level0 row2\" >15-19</th>\n",
       "                        <td id=\"T_9e71b2a2_5d9e_11eb_af2c_28cdc4cd3530row2_col0\" class=\"data row2 col0\" >136</td>\n",
       "                        <td id=\"T_9e71b2a2_5d9e_11eb_af2c_28cdc4cd3530row2_col1\" class=\"data row2 col1\" >$3.04</td>\n",
       "                        <td id=\"T_9e71b2a2_5d9e_11eb_af2c_28cdc4cd3530row2_col2\" class=\"data row2 col2\" >$412.89</td>\n",
       "                        <td id=\"T_9e71b2a2_5d9e_11eb_af2c_28cdc4cd3530row2_col3\" class=\"data row2 col3\" >$3.86</td>\n",
       "            </tr>\n",
       "            <tr>\n",
       "                        <th id=\"T_9e71b2a2_5d9e_11eb_af2c_28cdc4cd3530level0_row3\" class=\"row_heading level0 row3\" >20-24</th>\n",
       "                        <td id=\"T_9e71b2a2_5d9e_11eb_af2c_28cdc4cd3530row3_col0\" class=\"data row3 col0\" >365</td>\n",
       "                        <td id=\"T_9e71b2a2_5d9e_11eb_af2c_28cdc4cd3530row3_col1\" class=\"data row3 col1\" >$3.05</td>\n",
       "                        <td id=\"T_9e71b2a2_5d9e_11eb_af2c_28cdc4cd3530row3_col2\" class=\"data row3 col2\" >$1,114.06</td>\n",
       "                        <td id=\"T_9e71b2a2_5d9e_11eb_af2c_28cdc4cd3530row3_col3\" class=\"data row3 col3\" >$4.32</td>\n",
       "            </tr>\n",
       "            <tr>\n",
       "                        <th id=\"T_9e71b2a2_5d9e_11eb_af2c_28cdc4cd3530level0_row4\" class=\"row_heading level0 row4\" >25-29</th>\n",
       "                        <td id=\"T_9e71b2a2_5d9e_11eb_af2c_28cdc4cd3530row4_col0\" class=\"data row4 col0\" >101</td>\n",
       "                        <td id=\"T_9e71b2a2_5d9e_11eb_af2c_28cdc4cd3530row4_col1\" class=\"data row4 col1\" >$2.90</td>\n",
       "                        <td id=\"T_9e71b2a2_5d9e_11eb_af2c_28cdc4cd3530row4_col2\" class=\"data row4 col2\" >$293.00</td>\n",
       "                        <td id=\"T_9e71b2a2_5d9e_11eb_af2c_28cdc4cd3530row4_col3\" class=\"data row4 col3\" >$3.81</td>\n",
       "            </tr>\n",
       "            <tr>\n",
       "                        <th id=\"T_9e71b2a2_5d9e_11eb_af2c_28cdc4cd3530level0_row5\" class=\"row_heading level0 row5\" >30-34</th>\n",
       "                        <td id=\"T_9e71b2a2_5d9e_11eb_af2c_28cdc4cd3530row5_col0\" class=\"data row5 col0\" >73</td>\n",
       "                        <td id=\"T_9e71b2a2_5d9e_11eb_af2c_28cdc4cd3530row5_col1\" class=\"data row5 col1\" >$2.93</td>\n",
       "                        <td id=\"T_9e71b2a2_5d9e_11eb_af2c_28cdc4cd3530row5_col2\" class=\"data row5 col2\" >$214.00</td>\n",
       "                        <td id=\"T_9e71b2a2_5d9e_11eb_af2c_28cdc4cd3530row5_col3\" class=\"data row5 col3\" >$4.12</td>\n",
       "            </tr>\n",
       "            <tr>\n",
       "                        <th id=\"T_9e71b2a2_5d9e_11eb_af2c_28cdc4cd3530level0_row6\" class=\"row_heading level0 row6\" >35-39</th>\n",
       "                        <td id=\"T_9e71b2a2_5d9e_11eb_af2c_28cdc4cd3530row6_col0\" class=\"data row6 col0\" >41</td>\n",
       "                        <td id=\"T_9e71b2a2_5d9e_11eb_af2c_28cdc4cd3530row6_col1\" class=\"data row6 col1\" >$3.60</td>\n",
       "                        <td id=\"T_9e71b2a2_5d9e_11eb_af2c_28cdc4cd3530row6_col2\" class=\"data row6 col2\" >$147.67</td>\n",
       "                        <td id=\"T_9e71b2a2_5d9e_11eb_af2c_28cdc4cd3530row6_col3\" class=\"data row6 col3\" >$4.76</td>\n",
       "            </tr>\n",
       "            <tr>\n",
       "                        <th id=\"T_9e71b2a2_5d9e_11eb_af2c_28cdc4cd3530level0_row7\" class=\"row_heading level0 row7\" >40+</th>\n",
       "                        <td id=\"T_9e71b2a2_5d9e_11eb_af2c_28cdc4cd3530row7_col0\" class=\"data row7 col0\" >13</td>\n",
       "                        <td id=\"T_9e71b2a2_5d9e_11eb_af2c_28cdc4cd3530row7_col1\" class=\"data row7 col1\" >$2.94</td>\n",
       "                        <td id=\"T_9e71b2a2_5d9e_11eb_af2c_28cdc4cd3530row7_col2\" class=\"data row7 col2\" >$38.24</td>\n",
       "                        <td id=\"T_9e71b2a2_5d9e_11eb_af2c_28cdc4cd3530row7_col3\" class=\"data row7 col3\" >$3.19</td>\n",
       "            </tr>\n",
       "    </tbody></table>"
      ],
      "text/plain": [
       "<pandas.io.formats.style.Styler at 0x196edf48a20>"
      ]
     },
     "execution_count": 35,
     "metadata": {},
     "output_type": "execute_result"
    }
   ],
   "source": [
    "age_purchase = purchase_df.groupby(\"Age Bin\").agg({\"Purchase ID\":\"count\", \"Price\": [\"mean\", \"sum\"],\n",
    "                                                         \"SN\" : pd.Series.nunique})\n",
    "av_pp_age = age_purchase[(\"Price\",\"sum\")] / age_purchase[(\"SN\", \"nunique\")] \n",
    "\n",
    "age_purchase[(                           'SN', 'nunique')] = av_pp_age\n",
    "cols = {(                  'Purchase ID',   'count') : \"Purchase Count\",\n",
    "            (                        'Price',    'mean') : \"Average Purchase Price\",\n",
    "            (                        'Price',     'sum') : \"Total Purchase Value\",\n",
    "            (                           'SN', 'nunique') : \"Avg Total Purchase per Person\"}\n",
    "\n",
    "age_purchase.columns = age_purchase.columns.to_flat_index()\n",
    "\n",
    "rename_age = age_purchase.rename(columns=cols)\n",
    "rename_age.style.format({\"Average Purchase Price\" : \"${:,.2f}\",\n",
    "                            \"Total Purchase Value\" : \"${:,.2f}\",\n",
    "                            \"Avg Total Purchase per Person\" : \"${:,.2f}\" })\n"
   ]
  },
  {
   "cell_type": "code",
   "execution_count": null,
   "metadata": {},
   "outputs": [],
   "source": []
  }
 ],
 "metadata": {
  "kernelspec": {
   "display_name": "Python [conda env:pythonData]",
   "language": "python",
   "name": "conda-env-pythonData-py"
  },
  "language_info": {
   "codemirror_mode": {
    "name": "ipython",
    "version": 3
   },
   "file_extension": ".py",
   "mimetype": "text/x-python",
   "name": "python",
   "nbconvert_exporter": "python",
   "pygments_lexer": "ipython3",
   "version": "3.6.10"
  }
 },
 "nbformat": 4,
 "nbformat_minor": 4
}
