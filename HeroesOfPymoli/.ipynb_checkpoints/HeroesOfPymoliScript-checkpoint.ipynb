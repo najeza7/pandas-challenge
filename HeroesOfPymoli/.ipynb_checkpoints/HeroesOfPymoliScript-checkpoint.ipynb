{
 "cells": [
  {
   "cell_type": "code",
   "execution_count": 2,
   "metadata": {},
   "outputs": [],
   "source": [
    "# Dependencies and Setup\n",
    "import pandas as pd\n",
    "\n",
    "# File to Load \n",
    "file_path = \"Resources/purchase_data.csv\"\n",
    "\n",
    "# Read Purchasing File and store into Pandas data frame\n",
    "purchase_df = pd.read_csv(file_path)"
   ]
  },
  {
   "cell_type": "code",
   "execution_count": 3,
   "metadata": {},
   "outputs": [
    {
     "data": {
      "text/html": [
       "<div>\n",
       "<style scoped>\n",
       "    .dataframe tbody tr th:only-of-type {\n",
       "        vertical-align: middle;\n",
       "    }\n",
       "\n",
       "    .dataframe tbody tr th {\n",
       "        vertical-align: top;\n",
       "    }\n",
       "\n",
       "    .dataframe thead th {\n",
       "        text-align: right;\n",
       "    }\n",
       "</style>\n",
       "<table border=\"1\" class=\"dataframe\">\n",
       "  <thead>\n",
       "    <tr style=\"text-align: right;\">\n",
       "      <th></th>\n",
       "      <th>Total Players</th>\n",
       "    </tr>\n",
       "  </thead>\n",
       "  <tbody>\n",
       "    <tr>\n",
       "      <th>0</th>\n",
       "      <td>576</td>\n",
       "    </tr>\n",
       "  </tbody>\n",
       "</table>\n",
       "</div>"
      ],
      "text/plain": [
       "   Total Players\n",
       "0            576"
      ]
     },
     "execution_count": 3,
     "metadata": {},
     "output_type": "execute_result"
    }
   ],
   "source": [
    "t_players = len(purchase_df[\"SN\"].unique())\n",
    "t_players_df = pd.DataFrame({\"Total Players\" : [t_players] })\n",
    "t_players_df"
   ]
  },
  {
   "cell_type": "code",
   "execution_count": 4,
   "metadata": {},
   "outputs": [
    {
     "data": {
      "text/html": [
       "<div>\n",
       "<style scoped>\n",
       "    .dataframe tbody tr th:only-of-type {\n",
       "        vertical-align: middle;\n",
       "    }\n",
       "\n",
       "    .dataframe tbody tr th {\n",
       "        vertical-align: top;\n",
       "    }\n",
       "\n",
       "    .dataframe thead th {\n",
       "        text-align: right;\n",
       "    }\n",
       "</style>\n",
       "<table border=\"1\" class=\"dataframe\">\n",
       "  <thead>\n",
       "    <tr style=\"text-align: right;\">\n",
       "      <th></th>\n",
       "      <th>Number of Unique Items</th>\n",
       "      <th>Average Price</th>\n",
       "      <th>Number of Purchases</th>\n",
       "      <th>Total Revenue</th>\n",
       "    </tr>\n",
       "  </thead>\n",
       "  <tbody>\n",
       "    <tr>\n",
       "      <th>0</th>\n",
       "      <td>179</td>\n",
       "      <td>$3.05</td>\n",
       "      <td>780</td>\n",
       "      <td>$2,379.77</td>\n",
       "    </tr>\n",
       "  </tbody>\n",
       "</table>\n",
       "</div>"
      ],
      "text/plain": [
       "   Number of Unique Items Average Price  Number of Purchases Total Revenue\n",
       "0                     179         $3.05                  780     $2,379.77"
      ]
     },
     "execution_count": 4,
     "metadata": {},
     "output_type": "execute_result"
    }
   ],
   "source": [
    "t_purchases = len(purchase_df[\"SN\"])\n",
    "unique_items = len(purchase_df[\"Item ID\"].unique())\n",
    "av_price =  \"${:,.2f}\".format(purchase_df[\"Price\"].sum()/t_purchases)\n",
    "t_revenue = \"${:,.2f}\".format(purchase_df[\"Price\"].sum())\n",
    "\n",
    "purchasing_analysis = pd.DataFrame({\"Number of Unique Items\" : [unique_items], \"Average Price\": [av_price], \n",
    "                                    \"Number of Purchases\" : [t_purchases], \"Total Revenue\" : [t_revenue]})\n",
    "purchasing_analysis\n"
   ]
  },
  {
   "cell_type": "code",
   "execution_count": 8,
   "metadata": {},
   "outputs": [
    {
     "data": {
      "text/html": [
       "<style  type=\"text/css\" >\n",
       "</style><table id=\"T_f596be92_5d8d_11eb_a238_28cdc4cd3530\" ><thead>    <tr>        <th class=\"blank level0\" ></th>        <th class=\"col_heading level0 col0\" >Total Count</th>        <th class=\"col_heading level0 col1\" >Percentage of Players</th>    </tr></thead><tbody>\n",
       "                <tr>\n",
       "                        <th id=\"T_f596be92_5d8d_11eb_a238_28cdc4cd3530level0_row0\" class=\"row_heading level0 row0\" >Male</th>\n",
       "                        <td id=\"T_f596be92_5d8d_11eb_a238_28cdc4cd3530row0_col0\" class=\"data row0 col0\" >484</td>\n",
       "                        <td id=\"T_f596be92_5d8d_11eb_a238_28cdc4cd3530row0_col1\" class=\"data row0 col1\" >84.03%</td>\n",
       "            </tr>\n",
       "            <tr>\n",
       "                        <th id=\"T_f596be92_5d8d_11eb_a238_28cdc4cd3530level0_row1\" class=\"row_heading level0 row1\" >Female</th>\n",
       "                        <td id=\"T_f596be92_5d8d_11eb_a238_28cdc4cd3530row1_col0\" class=\"data row1 col0\" >81</td>\n",
       "                        <td id=\"T_f596be92_5d8d_11eb_a238_28cdc4cd3530row1_col1\" class=\"data row1 col1\" >14.06%</td>\n",
       "            </tr>\n",
       "            <tr>\n",
       "                        <th id=\"T_f596be92_5d8d_11eb_a238_28cdc4cd3530level0_row2\" class=\"row_heading level0 row2\" >Other / Non-Disclosed</th>\n",
       "                        <td id=\"T_f596be92_5d8d_11eb_a238_28cdc4cd3530row2_col0\" class=\"data row2 col0\" >11</td>\n",
       "                        <td id=\"T_f596be92_5d8d_11eb_a238_28cdc4cd3530row2_col1\" class=\"data row2 col1\" >1.91%</td>\n",
       "            </tr>\n",
       "    </tbody></table>"
      ],
      "text/plain": [
       "<pandas.io.formats.style.Styler at 0x1e81ed19908>"
      ]
     },
     "execution_count": 8,
     "metadata": {},
     "output_type": "execute_result"
    }
   ],
   "source": [
    "purchase_unique = purchase_df.drop_duplicates(subset=[\"SN\"])\n",
    "gender_counts = purchase_unique[\"Gender\"].value_counts()\n",
    "per_players = (gender_counts/t_players)*100\n",
    "gender_dem = pd.DataFrame({\"Total Count\" : gender_counts, \"Percentage of Players\" : per_players})\n",
    "gender_dem.head().style.format({\"Percentage of Players\" : \"{:,.2f}%\"})\n"
   ]
  },
  {
   "cell_type": "code",
   "execution_count": 16,
   "metadata": {},
   "outputs": [
    {
     "data": {
      "text/html": [
       "<style  type=\"text/css\" >\n",
       "</style><table id=\"T_cdfa921a_5d8e_11eb_be2a_28cdc4cd3530\" ><thead>    <tr>        <th class=\"blank level0\" ></th>        <th class=\"col_heading level0 col0\" >Purchase Count</th>        <th class=\"col_heading level0 col1\" >Average Purchase Price</th>        <th class=\"col_heading level0 col2\" >Total Purchase Value</th>        <th class=\"col_heading level0 col3\" >Avg Total Purchase per Person</th>    </tr>    <tr>        <th class=\"index_name level0\" >Gender</th>        <th class=\"blank\" ></th>        <th class=\"blank\" ></th>        <th class=\"blank\" ></th>        <th class=\"blank\" ></th>    </tr></thead><tbody>\n",
       "                <tr>\n",
       "                        <th id=\"T_cdfa921a_5d8e_11eb_be2a_28cdc4cd3530level0_row0\" class=\"row_heading level0 row0\" >Female</th>\n",
       "                        <td id=\"T_cdfa921a_5d8e_11eb_be2a_28cdc4cd3530row0_col0\" class=\"data row0 col0\" >113</td>\n",
       "                        <td id=\"T_cdfa921a_5d8e_11eb_be2a_28cdc4cd3530row0_col1\" class=\"data row0 col1\" >$3.20</td>\n",
       "                        <td id=\"T_cdfa921a_5d8e_11eb_be2a_28cdc4cd3530row0_col2\" class=\"data row0 col2\" >$361.94</td>\n",
       "                        <td id=\"T_cdfa921a_5d8e_11eb_be2a_28cdc4cd3530row0_col3\" class=\"data row0 col3\" >$4.47</td>\n",
       "            </tr>\n",
       "            <tr>\n",
       "                        <th id=\"T_cdfa921a_5d8e_11eb_be2a_28cdc4cd3530level0_row1\" class=\"row_heading level0 row1\" >Male</th>\n",
       "                        <td id=\"T_cdfa921a_5d8e_11eb_be2a_28cdc4cd3530row1_col0\" class=\"data row1 col0\" >652</td>\n",
       "                        <td id=\"T_cdfa921a_5d8e_11eb_be2a_28cdc4cd3530row1_col1\" class=\"data row1 col1\" >$3.02</td>\n",
       "                        <td id=\"T_cdfa921a_5d8e_11eb_be2a_28cdc4cd3530row1_col2\" class=\"data row1 col2\" >$1,967.64</td>\n",
       "                        <td id=\"T_cdfa921a_5d8e_11eb_be2a_28cdc4cd3530row1_col3\" class=\"data row1 col3\" >$4.07</td>\n",
       "            </tr>\n",
       "            <tr>\n",
       "                        <th id=\"T_cdfa921a_5d8e_11eb_be2a_28cdc4cd3530level0_row2\" class=\"row_heading level0 row2\" >Other / Non-Disclosed</th>\n",
       "                        <td id=\"T_cdfa921a_5d8e_11eb_be2a_28cdc4cd3530row2_col0\" class=\"data row2 col0\" >15</td>\n",
       "                        <td id=\"T_cdfa921a_5d8e_11eb_be2a_28cdc4cd3530row2_col1\" class=\"data row2 col1\" >$3.35</td>\n",
       "                        <td id=\"T_cdfa921a_5d8e_11eb_be2a_28cdc4cd3530row2_col2\" class=\"data row2 col2\" >$50.19</td>\n",
       "                        <td id=\"T_cdfa921a_5d8e_11eb_be2a_28cdc4cd3530row2_col3\" class=\"data row2 col3\" >$4.56</td>\n",
       "            </tr>\n",
       "    </tbody></table>"
      ],
      "text/plain": [
       "<pandas.io.formats.style.Styler at 0x1e81ed32c18>"
      ]
     },
     "execution_count": 16,
     "metadata": {},
     "output_type": "execute_result"
    }
   ],
   "source": [
    "gender_purchase = purchase_df.groupby(\"Gender\").agg({\"Purchase ID\":\"count\", \"Price\": [\"mean\", \"sum\"],\n",
    "                                                         \"SN\" : pd.Series.nunique})\n",
    "av_pp = gender_purchase[(\"Price\",\"sum\")] / gender_purchase[(\"SN\", \"nunique\")] \n",
    "\n",
    "gender_purchase[(                           'SN', 'nunique')] = av_pp\n",
    "cols = {(                  'Purchase ID',   'count') : \"Purchase Count\",\n",
    "            (                        'Price',    'mean') : \"Average Purchase Price\",\n",
    "            (                        'Price',     'sum') : \"Total Purchase Value\",\n",
    "            (                           'SN', 'nunique') : \"Avg Total Purchase per Person\"}\n",
    "\n",
    "gender_purchase.columns = gender_purchase.columns.to_flat_index()\n",
    "\n",
    "rename = gender_purchase.rename(columns=cols)\n",
    "rename.head().style.format({\"Average Purchase Price\" : \"${:,.2f}\",\n",
    "                            \"Total Purchase Value\" : \"${:,.2f}\",\n",
    "                            \"Avg Total Purchase per Person\" : \"${:,.2f}\" })\n"
   ]
  },
  {
   "cell_type": "code",
   "execution_count": null,
   "metadata": {},
   "outputs": [],
   "source": []
  },
  {
   "cell_type": "code",
   "execution_count": null,
   "metadata": {},
   "outputs": [],
   "source": []
  },
  {
   "cell_type": "code",
   "execution_count": null,
   "metadata": {},
   "outputs": [],
   "source": []
  },
  {
   "cell_type": "code",
   "execution_count": 45,
   "metadata": {},
   "outputs": [
    {
     "data": {
      "text/html": [
       "<div>\n",
       "<style scoped>\n",
       "    .dataframe tbody tr th:only-of-type {\n",
       "        vertical-align: middle;\n",
       "    }\n",
       "\n",
       "    .dataframe tbody tr th {\n",
       "        vertical-align: top;\n",
       "    }\n",
       "\n",
       "    .dataframe thead th {\n",
       "        text-align: right;\n",
       "    }\n",
       "</style>\n",
       "<table border=\"1\" class=\"dataframe\">\n",
       "  <thead>\n",
       "    <tr style=\"text-align: right;\">\n",
       "      <th></th>\n",
       "      <th>Purchase ID</th>\n",
       "      <th>SN</th>\n",
       "      <th>Age</th>\n",
       "      <th>Gender</th>\n",
       "      <th>Item ID</th>\n",
       "      <th>Item Name</th>\n",
       "      <th>Price</th>\n",
       "    </tr>\n",
       "  </thead>\n",
       "  <tbody>\n",
       "    <tr>\n",
       "      <th>0</th>\n",
       "      <td>0</td>\n",
       "      <td>Lisim78</td>\n",
       "      <td>20</td>\n",
       "      <td>Male</td>\n",
       "      <td>108</td>\n",
       "      <td>Extraction, Quickblade Of Trembling Hands</td>\n",
       "      <td>3.53</td>\n",
       "    </tr>\n",
       "    <tr>\n",
       "      <th>1</th>\n",
       "      <td>1</td>\n",
       "      <td>Lisovynya38</td>\n",
       "      <td>40</td>\n",
       "      <td>Male</td>\n",
       "      <td>143</td>\n",
       "      <td>Frenzied Scimitar</td>\n",
       "      <td>1.56</td>\n",
       "    </tr>\n",
       "    <tr>\n",
       "      <th>2</th>\n",
       "      <td>2</td>\n",
       "      <td>Ithergue48</td>\n",
       "      <td>24</td>\n",
       "      <td>Male</td>\n",
       "      <td>92</td>\n",
       "      <td>Final Critic</td>\n",
       "      <td>4.88</td>\n",
       "    </tr>\n",
       "    <tr>\n",
       "      <th>3</th>\n",
       "      <td>3</td>\n",
       "      <td>Chamassasya86</td>\n",
       "      <td>24</td>\n",
       "      <td>Male</td>\n",
       "      <td>100</td>\n",
       "      <td>Blindscythe</td>\n",
       "      <td>3.27</td>\n",
       "    </tr>\n",
       "    <tr>\n",
       "      <th>4</th>\n",
       "      <td>4</td>\n",
       "      <td>Iskosia90</td>\n",
       "      <td>23</td>\n",
       "      <td>Male</td>\n",
       "      <td>131</td>\n",
       "      <td>Fury</td>\n",
       "      <td>1.44</td>\n",
       "    </tr>\n",
       "  </tbody>\n",
       "</table>\n",
       "</div>"
      ],
      "text/plain": [
       "   Purchase ID             SN  Age Gender  Item ID  \\\n",
       "0            0        Lisim78   20   Male      108   \n",
       "1            1    Lisovynya38   40   Male      143   \n",
       "2            2     Ithergue48   24   Male       92   \n",
       "3            3  Chamassasya86   24   Male      100   \n",
       "4            4      Iskosia90   23   Male      131   \n",
       "\n",
       "                                   Item Name  Price  \n",
       "0  Extraction, Quickblade Of Trembling Hands   3.53  \n",
       "1                          Frenzied Scimitar   1.56  \n",
       "2                               Final Critic   4.88  \n",
       "3                                Blindscythe   3.27  \n",
       "4                                       Fury   1.44  "
      ]
     },
     "execution_count": 45,
     "metadata": {},
     "output_type": "execute_result"
    }
   ],
   "source": [
    "purchase_df.head()"
   ]
  },
  {
   "cell_type": "code",
   "execution_count": null,
   "metadata": {},
   "outputs": [],
   "source": []
  },
  {
   "cell_type": "code",
   "execution_count": null,
   "metadata": {},
   "outputs": [],
   "source": []
  }
 ],
 "metadata": {
  "kernelspec": {
   "display_name": "Python [conda env:pythonData]",
   "language": "python",
   "name": "conda-env-pythonData-py"
  },
  "language_info": {
   "codemirror_mode": {
    "name": "ipython",
    "version": 3
   },
   "file_extension": ".py",
   "mimetype": "text/x-python",
   "name": "python",
   "nbconvert_exporter": "python",
   "pygments_lexer": "ipython3",
   "version": "3.6.10"
  }
 },
 "nbformat": 4,
 "nbformat_minor": 4
}
